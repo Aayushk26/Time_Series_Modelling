{
 "cells": [
  {
   "cell_type": "code",
   "execution_count": 1,
   "metadata": {},
   "outputs": [],
   "source": [
    "import numpy as np\n",
    "import pandas as pd\n",
    "import matplotlib.pyplot as plt"
   ]
  },
  {
   "cell_type": "code",
   "execution_count": 2,
   "metadata": {},
   "outputs": [],
   "source": [
    "# Importing training set\n",
    "dataset_train=pd.read_csv('C:\\\\Users\\\\Aayush Kandpal\\\\Downloads\\\\tesla_train.csv')\n",
    "traininng_set=dataset_train.iloc[:,1:2].values"
   ]
  },
  {
   "cell_type": "code",
   "execution_count": 3,
   "metadata": {},
   "outputs": [],
   "source": [
    "#Feature Scaling\n",
    "from sklearn.preprocessing import MinMaxScaler\n",
    "sc=MinMaxScaler(feature_range=(0,1))\n",
    "training_set_scaled=sc.fit_transform(traininng_set)\n"
   ]
  },
  {
   "cell_type": "code",
   "execution_count": 4,
   "metadata": {},
   "outputs": [
    {
     "data": {
      "text/plain": [
       "array([[0.07466307],\n",
       "       [0.0745444 ],\n",
       "       [0.07780809],\n",
       "       ...,\n",
       "       [0.82724767],\n",
       "       [0.82659493],\n",
       "       [1.        ]])"
      ]
     },
     "execution_count": 4,
     "metadata": {},
     "output_type": "execute_result"
    }
   ],
   "source": [
    "#Sclaed values of TSLA stock pricest\n",
    "training_set_scaled"
   ]
  },
  {
   "cell_type": "code",
   "execution_count": 5,
   "metadata": {},
   "outputs": [],
   "source": [
    "x_train=[]\n",
    "y_train=[]\n",
    "for i in range(50,1235):\n",
    "    x_train.append(training_set_scaled[i-50:i,0])\n",
    "    y_train.append(training_set_scaled[i,0])\n",
    "x_train,y_train=np.array(x_train),np.array(y_train)\n"
   ]
  },
  {
   "cell_type": "code",
   "execution_count": 6,
   "metadata": {},
   "outputs": [
    {
     "data": {
      "text/plain": [
       "(1235, 1)"
      ]
     },
     "execution_count": 6,
     "metadata": {},
     "output_type": "execute_result"
    }
   ],
   "source": [
    "training_set_scaled.shape"
   ]
  },
  {
   "cell_type": "code",
   "execution_count": 7,
   "metadata": {},
   "outputs": [
    {
     "data": {
      "text/plain": [
       "array([[0.07466307, 0.0745444 , 0.07780809, ..., 0.04565234, 0.04792045,\n",
       "        0.04553366],\n",
       "       [0.0745444 , 0.07780809, 0.0723554 , ..., 0.04792045, 0.04553366,\n",
       "        0.04781496],\n",
       "       [0.07780809, 0.0723554 , 0.06176649, ..., 0.04553366, 0.04781496,\n",
       "        0.04548751],\n",
       "       ...,\n",
       "       [0.43075666, 0.42715008, 0.47002004, ..., 0.74792965, 0.83253554,\n",
       "        0.83252894],\n",
       "       [0.42715008, 0.47002004, 0.40396128, ..., 0.83253554, 0.83252894,\n",
       "        0.82724767],\n",
       "       [0.47002004, 0.40396128, 0.3683572 , ..., 0.83252894, 0.82724767,\n",
       "        0.82659493]])"
      ]
     },
     "execution_count": 7,
     "metadata": {},
     "output_type": "execute_result"
    }
   ],
   "source": [
    "x_train"
   ]
  },
  {
   "cell_type": "code",
   "execution_count": 8,
   "metadata": {},
   "outputs": [
    {
     "data": {
      "text/plain": [
       "(1185, 50)"
      ]
     },
     "execution_count": 8,
     "metadata": {},
     "output_type": "execute_result"
    }
   ],
   "source": [
    "x_train.shape"
   ]
  },
  {
   "cell_type": "code",
   "execution_count": 11,
   "metadata": {},
   "outputs": [],
   "source": [
    "x_train=np.reshape(x_train,(x_train.shape[0],x_train.shape[1],1))"
   ]
  },
  {
   "cell_type": "code",
   "execution_count": 14,
   "metadata": {},
   "outputs": [],
   "source": [
    "# Building a function Recurrent Neural Network with Keras\n",
    "# Dropout is being used to prevent overfitting\n",
    "\n",
    "from keras.models import Sequential\n",
    "from keras.layers import Dense\n",
    "from keras.layers import LSTM\n",
    "from keras.layers import Dropout"
   ]
  },
  {
   "cell_type": "code",
   "execution_count": 203,
   "metadata": {},
   "outputs": [],
   "source": [
    "#Initialisation \n",
    "# Adding layers and definig the model\n",
    "# this model has 5 hidden layers \n",
    "\n",
    "# Initialisation\n",
    "reg=Sequential()\n",
    "\n",
    "#Layer 1\n",
    "reg.add(LSTM(units=100,return_sequences=True,input_shape=(x_train.shape[1],1)))\n",
    "reg.add(Dropout(0.2))\n",
    "#Layer 2\n",
    "reg=Sequential()\n",
    "reg.add(LSTM(units=100,return_sequences=True))\n",
    "reg.add(Dropout(0.2))\n",
    "#Layer 3\n",
    "reg=Sequential()\n",
    "reg.add(LSTM(units=100,return_sequences=True))\n",
    "reg.add(Dropout(0.2))\n",
    "#Layer 4\n",
    "reg=Sequential()\n",
    "reg.add(LSTM(units=100,return_sequences=True))\n",
    "reg.add(Dropout(0.2))\n",
    "#Layer 5\n",
    "reg=Sequential()\n",
    "reg.add(LSTM(units=100))\n",
    "reg.add(Dropout(0.2))\n",
    "\n",
    "# Final Output layer\n",
    "reg.add(Dense(units=1))"
   ]
  },
  {
   "cell_type": "code",
   "execution_count": 204,
   "metadata": {},
   "outputs": [],
   "source": [
    "# Compiling our neural network by choosing our loss functions and optimizer \n",
    "# Adam optimizer \n",
    "reg.compile(optimizer='adam',loss='mean_squared_error')\n"
   ]
  },
  {
   "cell_type": "code",
   "execution_count": 205,
   "metadata": {},
   "outputs": [
    {
     "name": "stdout",
     "output_type": "stream",
     "text": [
      "Epoch 1/100\n",
      "38/38 [==============================] - 1s 19ms/step - loss: 0.0046\n",
      "Epoch 2/100\n",
      "38/38 [==============================] - 1s 18ms/step - loss: 7.7764e-04\n",
      "Epoch 3/100\n",
      "38/38 [==============================] - 1s 19ms/step - loss: 7.4984e-04\n",
      "Epoch 4/100\n",
      "38/38 [==============================] - 1s 20ms/step - loss: 6.3019e-04\n",
      "Epoch 5/100\n",
      "38/38 [==============================] - 1s 20ms/step - loss: 7.2436e-04\n",
      "Epoch 6/100\n",
      "38/38 [==============================] - 1s 21ms/step - loss: 6.7501e-04\n",
      "Epoch 7/100\n",
      "38/38 [==============================] - 1s 21ms/step - loss: 5.7699e-04\n",
      "Epoch 8/100\n",
      "38/38 [==============================] - 1s 21ms/step - loss: 5.4595e-04\n",
      "Epoch 9/100\n",
      "38/38 [==============================] - 1s 21ms/step - loss: 4.8671e-04\n",
      "Epoch 10/100\n",
      "38/38 [==============================] - 1s 21ms/step - loss: 5.2495e-04\n",
      "Epoch 11/100\n",
      "38/38 [==============================] - 1s 21ms/step - loss: 4.4829e-04\n",
      "Epoch 12/100\n",
      "38/38 [==============================] - 1s 21ms/step - loss: 4.5059e-04\n",
      "Epoch 13/100\n",
      "38/38 [==============================] - 1s 21ms/step - loss: 5.4804e-04\n",
      "Epoch 14/100\n",
      "38/38 [==============================] - 1s 21ms/step - loss: 4.8375e-04\n",
      "Epoch 15/100\n",
      "38/38 [==============================] - 1s 21ms/step - loss: 6.8924e-04\n",
      "Epoch 16/100\n",
      "38/38 [==============================] - 1s 21ms/step - loss: 5.5143e-04\n",
      "Epoch 17/100\n",
      "38/38 [==============================] - 1s 21ms/step - loss: 4.4505e-04\n",
      "Epoch 18/100\n",
      "38/38 [==============================] - 1s 21ms/step - loss: 4.2359e-04\n",
      "Epoch 19/100\n",
      "38/38 [==============================] - 1s 21ms/step - loss: 5.1351e-04\n",
      "Epoch 20/100\n",
      "38/38 [==============================] - 1s 21ms/step - loss: 5.3857e-04\n",
      "Epoch 21/100\n",
      "38/38 [==============================] - 1s 21ms/step - loss: 4.2154e-04\n",
      "Epoch 22/100\n",
      "38/38 [==============================] - 1s 21ms/step - loss: 4.2588e-04: 0s - loss: 4.3210e-\n",
      "Epoch 23/100\n",
      "38/38 [==============================] - 1s 21ms/step - loss: 3.7554e-04\n",
      "Epoch 24/100\n",
      "38/38 [==============================] - 1s 21ms/step - loss: 4.5013e-04\n",
      "Epoch 25/100\n",
      "38/38 [==============================] - 1s 21ms/step - loss: 4.8240e-04: 0s - loss: 5.777\n",
      "Epoch 26/100\n",
      "38/38 [==============================] - 1s 22ms/step - loss: 4.0638e-04\n",
      "Epoch 27/100\n",
      "38/38 [==============================] - 1s 21ms/step - loss: 3.2571e-04\n",
      "Epoch 28/100\n",
      "38/38 [==============================] - 1s 21ms/step - loss: 4.7469e-04\n",
      "Epoch 29/100\n",
      "38/38 [==============================] - 1s 21ms/step - loss: 3.5810e-04\n",
      "Epoch 30/100\n",
      "38/38 [==============================] - 1s 20ms/step - loss: 3.6125e-04\n",
      "Epoch 31/100\n",
      "38/38 [==============================] - 1s 21ms/step - loss: 3.2449e-04\n",
      "Epoch 32/100\n",
      "38/38 [==============================] - 1s 21ms/step - loss: 3.4558e-04\n",
      "Epoch 33/100\n",
      "38/38 [==============================] - 1s 21ms/step - loss: 3.6891e-04: 0s - loss\n",
      "Epoch 34/100\n",
      "38/38 [==============================] - 1s 21ms/step - loss: 8.1217e-04\n",
      "Epoch 35/100\n",
      "38/38 [==============================] - 1s 21ms/step - loss: 0.0011\n",
      "Epoch 36/100\n",
      "38/38 [==============================] - 1s 21ms/step - loss: 4.2005e-04\n",
      "Epoch 37/100\n",
      "38/38 [==============================] - 1s 21ms/step - loss: 6.5256e-04\n",
      "Epoch 38/100\n",
      "38/38 [==============================] - 1s 21ms/step - loss: 3.2743e-04\n",
      "Epoch 39/100\n",
      "38/38 [==============================] - 1s 21ms/step - loss: 3.0937e-04\n",
      "Epoch 40/100\n",
      "38/38 [==============================] - 1s 22ms/step - loss: 3.7170e-04\n",
      "Epoch 41/100\n",
      "38/38 [==============================] - 1s 24ms/step - loss: 3.7919e-04\n",
      "Epoch 42/100\n",
      "38/38 [==============================] - 1s 22ms/step - loss: 3.1967e-04\n",
      "Epoch 43/100\n",
      "38/38 [==============================] - 1s 22ms/step - loss: 3.1963e-04\n",
      "Epoch 44/100\n",
      "38/38 [==============================] - 1s 21ms/step - loss: 3.1563e-04\n",
      "Epoch 45/100\n",
      "38/38 [==============================] - 1s 22ms/step - loss: 3.4558e-04\n",
      "Epoch 46/100\n",
      "38/38 [==============================] - 1s 21ms/step - loss: 2.9608e-04\n",
      "Epoch 47/100\n",
      "38/38 [==============================] - 1s 22ms/step - loss: 3.1385e-04\n",
      "Epoch 48/100\n",
      "38/38 [==============================] - 1s 21ms/step - loss: 3.2586e-04\n",
      "Epoch 49/100\n",
      "38/38 [==============================] - 1s 25ms/step - loss: 3.0356e-04\n",
      "Epoch 50/100\n",
      "38/38 [==============================] - 1s 26ms/step - loss: 3.7528e-04\n",
      "Epoch 51/100\n",
      "38/38 [==============================] - 1s 22ms/step - loss: 2.5172e-04\n",
      "Epoch 52/100\n",
      "38/38 [==============================] - 1s 19ms/step - loss: 3.3526e-04\n",
      "Epoch 53/100\n",
      "38/38 [==============================] - 1s 21ms/step - loss: 3.1149e-04\n",
      "Epoch 54/100\n",
      "38/38 [==============================] - 1s 22ms/step - loss: 3.0880e-04\n",
      "Epoch 55/100\n",
      "38/38 [==============================] - 1s 21ms/step - loss: 2.6923e-04\n",
      "Epoch 56/100\n",
      "38/38 [==============================] - 1s 22ms/step - loss: 2.9895e-04: 0s - loss: 2.6\n",
      "Epoch 57/100\n",
      "38/38 [==============================] - 1s 21ms/step - loss: 2.8041e-04\n",
      "Epoch 58/100\n",
      "38/38 [==============================] - 1s 22ms/step - loss: 3.0148e-04\n",
      "Epoch 59/100\n",
      "38/38 [==============================] - 1s 26ms/step - loss: 2.9652e-04: 0s - loss: \n",
      "Epoch 60/100\n",
      "38/38 [==============================] - 1s 25ms/step - loss: 3.0129e-04\n",
      "Epoch 61/100\n",
      "38/38 [==============================] - 1s 20ms/step - loss: 3.0325e-04\n",
      "Epoch 62/100\n",
      "38/38 [==============================] - 1s 20ms/step - loss: 2.9516e-04\n",
      "Epoch 63/100\n",
      "38/38 [==============================] - 1s 20ms/step - loss: 2.8875e-04\n",
      "Epoch 64/100\n",
      "38/38 [==============================] - 1s 20ms/step - loss: 2.7750e-04\n",
      "Epoch 65/100\n",
      "38/38 [==============================] - 1s 20ms/step - loss: 2.4962e-04\n",
      "Epoch 66/100\n",
      "38/38 [==============================] - 1s 18ms/step - loss: 3.0359e-04\n",
      "Epoch 67/100\n",
      "38/38 [==============================] - 1s 18ms/step - loss: 3.3417e-04\n",
      "Epoch 68/100\n",
      "38/38 [==============================] - 1s 18ms/step - loss: 4.2375e-04\n",
      "Epoch 69/100\n",
      "38/38 [==============================] - 1s 18ms/step - loss: 3.3595e-04\n",
      "Epoch 70/100\n",
      "38/38 [==============================] - 1s 18ms/step - loss: 3.4560e-04\n",
      "Epoch 71/100\n",
      "38/38 [==============================] - 1s 18ms/step - loss: 2.8763e-04\n",
      "Epoch 72/100\n",
      "38/38 [==============================] - 1s 18ms/step - loss: 2.8047e-04\n",
      "Epoch 73/100\n",
      "38/38 [==============================] - 1s 19ms/step - loss: 3.3149e-04\n",
      "Epoch 74/100\n",
      "38/38 [==============================] - 1s 18ms/step - loss: 3.1242e-04\n",
      "Epoch 75/100\n",
      "38/38 [==============================] - 1s 22ms/step - loss: 2.6723e-04\n",
      "Epoch 76/100\n",
      "38/38 [==============================] - 1s 18ms/step - loss: 3.0269e-04\n",
      "Epoch 77/100\n",
      "38/38 [==============================] - 1s 18ms/step - loss: 2.8288e-04\n",
      "Epoch 78/100\n",
      "38/38 [==============================] - 1s 18ms/step - loss: 2.5958e-04\n",
      "Epoch 79/100\n",
      "38/38 [==============================] - 1s 18ms/step - loss: 2.9370e-04\n",
      "Epoch 80/100\n",
      "38/38 [==============================] - 1s 18ms/step - loss: 3.0225e-04\n",
      "Epoch 81/100\n",
      "38/38 [==============================] - 1s 19ms/step - loss: 3.1988e-04\n",
      "Epoch 82/100\n",
      "38/38 [==============================] - 1s 18ms/step - loss: 2.7634e-04\n",
      "Epoch 83/100\n",
      "38/38 [==============================] - 1s 18ms/step - loss: 3.0368e-04\n",
      "Epoch 84/100\n",
      "38/38 [==============================] - 1s 19ms/step - loss: 2.5576e-04\n",
      "Epoch 85/100\n",
      "38/38 [==============================] - 1s 20ms/step - loss: 3.0203e-04\n",
      "Epoch 86/100\n",
      "38/38 [==============================] - 1s 23ms/step - loss: 3.2001e-04\n",
      "Epoch 87/100\n",
      "38/38 [==============================] - 1s 19ms/step - loss: 2.5760e-04\n",
      "Epoch 88/100\n",
      "38/38 [==============================] - 1s 21ms/step - loss: 2.6406e-04\n",
      "Epoch 89/100\n",
      "38/38 [==============================] - 1s 25ms/step - loss: 2.3711e-04\n",
      "Epoch 90/100\n",
      "38/38 [==============================] - 1s 19ms/step - loss: 2.0376e-04\n",
      "Epoch 91/100\n",
      "38/38 [==============================] - 1s 21ms/step - loss: 2.4395e-04\n",
      "Epoch 92/100\n",
      "38/38 [==============================] - 1s 19ms/step - loss: 2.4220e-04\n",
      "Epoch 93/100\n",
      "38/38 [==============================] - 1s 18ms/step - loss: 2.5062e-04\n",
      "Epoch 94/100\n",
      "38/38 [==============================] - 1s 18ms/step - loss: 2.2641e-04\n",
      "Epoch 95/100\n",
      "38/38 [==============================] - 1s 19ms/step - loss: 3.1747e-04\n",
      "Epoch 96/100\n",
      "38/38 [==============================] - 1s 19ms/step - loss: 2.7843e-04\n",
      "Epoch 97/100\n",
      "38/38 [==============================] - 1s 18ms/step - loss: 2.7548e-04\n",
      "Epoch 98/100\n",
      "38/38 [==============================] - 1s 18ms/step - loss: 2.7882e-04\n",
      "Epoch 99/100\n",
      "38/38 [==============================] - 1s 18ms/step - loss: 2.7992e-04\n",
      "Epoch 100/100\n",
      "38/38 [==============================] - 1s 18ms/step - loss: 2.6332e-04\n"
     ]
    },
    {
     "data": {
      "text/plain": [
       "<tensorflow.python.keras.callbacks.History at 0x238509d3608>"
      ]
     },
     "execution_count": 205,
     "metadata": {},
     "output_type": "execute_result"
    }
   ],
   "source": [
    "# Training the model on the training data\n",
    "reg.fit(x_train,y_train,epochs=100,batch_size=32)"
   ]
  },
  {
   "cell_type": "code",
   "execution_count": 166,
   "metadata": {},
   "outputs": [],
   "source": [
    "# Predictions\n",
    "# Import the real values of 2020 July 14 -August 14\n",
    "dataset_test=pd.read_csv('C:\\\\Users\\\\Aayush Kandpal\\\\Downloads\\\\tesla_test.csv')\n",
    "test_set=dataset_test.iloc[:,1:2].values\n"
   ]
  },
  {
   "cell_type": "code",
   "execution_count": 167,
   "metadata": {},
   "outputs": [
    {
     "data": {
      "text/plain": [
       "array([[1556.      ],\n",
       "       [1543.      ],\n",
       "       [1477.160034],\n",
       "       [1513.449951],\n",
       "       [1519.01001 ],\n",
       "       [1639.930054],\n",
       "       [1599.      ],\n",
       "       [1678.949951],\n",
       "       [1416.01001 ],\n",
       "       [1435.      ],\n",
       "       [1504.      ],\n",
       "       [1501.      ],\n",
       "       [1488.      ],\n",
       "       [1515.      ],\n",
       "       [1449.199951],\n",
       "       [1495.01001 ],\n",
       "       [1492.98999 ],\n",
       "       [1490.829956],\n",
       "       [1499.540039],\n",
       "       [1448.      ],\n",
       "       [1396.      ],\n",
       "       [1470.      ],\n",
       "       [1611.      ],\n",
       "       [1664.98999 ]])"
      ]
     },
     "execution_count": 167,
     "metadata": {},
     "output_type": "execute_result"
    }
   ],
   "source": [
    "test_set"
   ]
  },
  {
   "cell_type": "code",
   "execution_count": 206,
   "metadata": {},
   "outputs": [],
   "source": [
    "# We cannot directly scale the test values. Hence, we will first concanteneate witht the original train data and then scacle\n",
    "# this way the scaling factor for both the test and train data remains the same\n",
    "total=pd.concat((dataset_train['Open'],dataset_test['Open']),axis=0)\n",
    "inputs=total[len(total)-len(dataset_test)-50:].values\n",
    "inputs=inputs.reshape(-1,1)\n",
    "inputs=sc.transform(inputs)\n",
    "# Creating a datastructure for predicting the on the test data which contains 24 days\n",
    "x_test=[]\n",
    "for i in range(50,74):\n",
    "    x_test.append(inputs[i-50:i,0])\n",
    "x_test=np.array(x_test)\n",
    "x_test=np.reshape(x_test,(x_test.shape[0],x_test.shape[1],1))\n",
    "predicted_stockprices=reg.predict(x_test)\n",
    "\n",
    "# using the inverse transform to get our real values back from the scacled values\n",
    "predicted_stockprices=sc.inverse_transform(predicted_stockprices)\n",
    "\n",
    "\n"
   ]
  },
  {
   "cell_type": "code",
   "execution_count": 207,
   "metadata": {},
   "outputs": [
    {
     "data": {
      "text/plain": [
       "array([[1631.3735],\n",
       "       [1632.8218],\n",
       "       [1603.5469],\n",
       "       [1535.2891],\n",
       "       [1536.951 ],\n",
       "       [1547.1754],\n",
       "       [1646.1216],\n",
       "       [1651.9822],\n",
       "       [1707.7006],\n",
       "       [1518.4059],\n",
       "       [1454.4792],\n",
       "       [1496.7903],\n",
       "       [1520.4883],\n",
       "       [1517.9728],\n",
       "       [1535.1206],\n",
       "       [1490.8556],\n",
       "       [1506.9229],\n",
       "       [1515.9148],\n",
       "       [1517.6334],\n",
       "       [1524.4608],\n",
       "       [1487.3226],\n",
       "       [1432.0083],\n",
       "       [1469.1525],\n",
       "       [1599.5226]], dtype=float32)"
      ]
     },
     "execution_count": 207,
     "metadata": {},
     "output_type": "execute_result"
    }
   ],
   "source": [
    "predicted_stockprices"
   ]
  },
  {
   "cell_type": "code",
   "execution_count": 208,
   "metadata": {},
   "outputs": [
    {
     "data": {
      "image/png": "[encoded data removed]",
      "text/plain": [
       "<Figure size 432x288 with 1 Axes>"
      ]
     },
     "metadata": {
      "needs_background": "light"
     },
     "output_type": "display_data"
    }
   ],
   "source": [
    "# Visualising the results\n",
    "plt.plot(test_set,color='red',label='Real Tesla Stock price')\n",
    "plt.plot(predicted_stockprices,color='blue',label='Predicted Tesla Stock price')\n",
    "plt.title('Tesla stock price prediction using LSTM')\n",
    "plt.xlabel('Timeline (13th July- 14th August 2020)')\n",
    "plt.ylabel('Stock Price')\n",
    "plt.legend()\n",
    "plt.show()\n",
    "\n",
    "\n"
   ]
  },
  {
   "cell_type": "code",
   "execution_count": 209,
   "metadata": {},
   "outputs": [
    {
     "name": "stdout",
     "output_type": "stream",
     "text": [
      "88.08932424902632\n"
     ]
    }
   ],
   "source": [
    "# Root mean squared error\n",
    "\n",
    "import math\n",
    "from sklearn.metrics import mean_squared_error\n",
    "rmse = math.sqrt(mean_squared_error(test_set, predicted_stockprices))\n",
    "print(rmse)"
   ]
  },
  {
   "cell_type": "code",
   "execution_count": 210,
   "metadata": {},
   "outputs": [
    {
     "data": {
      "text/plain": [
       "63.44877118066406"
      ]
     },
     "execution_count": 210,
     "metadata": {},
     "output_type": "execute_result"
    }
   ],
   "source": [
    "from sklearn.metrics import mean_absolute_error\n",
    "mae=mean_absolute_error(test_set,predicted_stockprices)\n",
    "mae\n",
    "\n"
   ]
  },
  {
   "cell_type": "code",
   "execution_count": null,
   "metadata": {},
   "outputs": [],
   "source": [
    "# In Stock price prediction RMSE is not the right metric to judge the accuracy of the model as RMSE is dependent \n",
    "# on the values of the output . A small difference is heavily penalised.\n",
    "# Hence, after doing some research of my own I have found that relative error would be a better option.\n",
    "# Even MAPE ( Mean absolute percentage error is a good measure I have not used MAPE as it is still in develeopment stage \n",
    "#           on sklearn and the beta version is unstable . It divides by zero . Please read the documenetation)\n",
    "#  upvote if you liked the project. This is just a basic model and there is much more that can be done.\n",
    "\n",
    "\n",
    "    "
   ]
  },
  {
   "cell_type": "code",
   "execution_count": null,
   "metadata": {},
   "outputs": [],
   "source": []
  },
  {
   "cell_type": "code",
   "execution_count": null,
   "metadata": {},
   "outputs": [],
   "source": []
  }
 ],
 "metadata": {
  "kernelspec": {
   "display_name": "Python 3",
   "language": "python",
   "name": "python3"
  },
  "language_info": {
   "codemirror_mode": {
    "name": "ipython",
    "version": 3
   },
   "file_extension": ".py",
   "mimetype": "text/x-python",
   "name": "python",
   "nbconvert_exporter": "python",
   "pygments_lexer": "ipython3",
   "version": "3.7.4"
  }
 },
 "nbformat": 4,
 "nbformat_minor": 2
}
