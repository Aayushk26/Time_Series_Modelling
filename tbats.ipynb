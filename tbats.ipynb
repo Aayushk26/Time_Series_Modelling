{
 "cells": [
  {
   "cell_type": "code",
   "execution_count": 1,
   "metadata": {},
   "outputs": [],
   "source": [
    "from tbats import BATS, TBATS\n",
    "from tbats import TBATS\n",
    "import numpy as np\n",
    "import pandas as pd\n",
    "import seaborn as sns\n",
    "import matplotlib.pyplot as plt"
   ]
  },
  {
   "cell_type": "code",
   "execution_count": 2,
   "metadata": {},
   "outputs": [],
   "source": [
    "df=pd.read_csv(\"C:\\\\Users\\\\Aayush Kandpal\\\\Downloads\\\\SBIN.NS (2).csv\")"
   ]
  },
  {
   "cell_type": "code",
   "execution_count": 3,
   "metadata": {},
   "outputs": [
    {
     "data": {
      "text/html": [
       "<div>\n",
       "<style scoped>\n",
       "    .dataframe tbody tr th:only-of-type {\n",
       "        vertical-align: middle;\n",
       "    }\n",
       "\n",
       "    .dataframe tbody tr th {\n",
       "        vertical-align: top;\n",
       "    }\n",
       "\n",
       "    .dataframe thead th {\n",
       "        text-align: right;\n",
       "    }\n",
       "</style>\n",
       "<table border=\"1\" class=\"dataframe\">\n",
       "  <thead>\n",
       "    <tr style=\"text-align: right;\">\n",
       "      <th></th>\n",
       "      <th>Date</th>\n",
       "      <th>Open</th>\n",
       "      <th>High</th>\n",
       "      <th>Low</th>\n",
       "      <th>Close</th>\n",
       "      <th>Adj Close</th>\n",
       "      <th>Volume</th>\n",
       "    </tr>\n",
       "  </thead>\n",
       "  <tbody>\n",
       "    <tr>\n",
       "      <th>0</th>\n",
       "      <td>2019-12-04</td>\n",
       "      <td>334.100006</td>\n",
       "      <td>342.950012</td>\n",
       "      <td>331.850006</td>\n",
       "      <td>341.850006</td>\n",
       "      <td>341.850006</td>\n",
       "      <td>26789483.0</td>\n",
       "    </tr>\n",
       "    <tr>\n",
       "      <th>1</th>\n",
       "      <td>2019-12-05</td>\n",
       "      <td>343.000000</td>\n",
       "      <td>344.600006</td>\n",
       "      <td>335.149994</td>\n",
       "      <td>336.200012</td>\n",
       "      <td>336.200012</td>\n",
       "      <td>30429507.0</td>\n",
       "    </tr>\n",
       "    <tr>\n",
       "      <th>2</th>\n",
       "      <td>2019-12-06</td>\n",
       "      <td>336.700012</td>\n",
       "      <td>337.649994</td>\n",
       "      <td>318.000000</td>\n",
       "      <td>320.000000</td>\n",
       "      <td>320.000000</td>\n",
       "      <td>47027528.0</td>\n",
       "    </tr>\n",
       "    <tr>\n",
       "      <th>3</th>\n",
       "      <td>2019-12-09</td>\n",
       "      <td>318.950012</td>\n",
       "      <td>327.649994</td>\n",
       "      <td>314.750000</td>\n",
       "      <td>316.700012</td>\n",
       "      <td>316.700012</td>\n",
       "      <td>52435239.0</td>\n",
       "    </tr>\n",
       "    <tr>\n",
       "      <th>4</th>\n",
       "      <td>2019-12-10</td>\n",
       "      <td>317.200012</td>\n",
       "      <td>322.649994</td>\n",
       "      <td>312.250000</td>\n",
       "      <td>313.399994</td>\n",
       "      <td>313.399994</td>\n",
       "      <td>52155809.0</td>\n",
       "    </tr>\n",
       "  </tbody>\n",
       "</table>\n",
       "</div>"
      ],
      "text/plain": [
       "         Date        Open        High         Low       Close   Adj Close  \\\n",
       "0  2019-12-04  334.100006  342.950012  331.850006  341.850006  341.850006   \n",
       "1  2019-12-05  343.000000  344.600006  335.149994  336.200012  336.200012   \n",
       "2  2019-12-06  336.700012  337.649994  318.000000  320.000000  320.000000   \n",
       "3  2019-12-09  318.950012  327.649994  314.750000  316.700012  316.700012   \n",
       "4  2019-12-10  317.200012  322.649994  312.250000  313.399994  313.399994   \n",
       "\n",
       "       Volume  \n",
       "0  26789483.0  \n",
       "1  30429507.0  \n",
       "2  47027528.0  \n",
       "3  52435239.0  \n",
       "4  52155809.0  "
      ]
     },
     "execution_count": 3,
     "metadata": {},
     "output_type": "execute_result"
    }
   ],
   "source": [
    "df.head()"
   ]
  },
  {
   "cell_type": "code",
   "execution_count": 4,
   "metadata": {},
   "outputs": [],
   "source": [
    "df= df.drop(['High','Low','Adj Close','Volume'],axis=1)\n",
    "df=df.dropna()"
   ]
  },
  {
   "cell_type": "code",
   "execution_count": 11,
   "metadata": {},
   "outputs": [
    {
     "name": "stdout",
     "output_type": "stream",
     "text": [
      "Use Box-Cox: False\n",
      "Use trend: True\n",
      "Use damped trend: False\n",
      "Seasonal periods: [  7. 197.]\n",
      "Seasonal harmonics [ 1 24]\n",
      "ARMA errors (p, q): (4, 2)\n",
      "Smoothing (Alpha): -0.020103\n",
      "Trend (Beta): 0.058849\n",
      "Damping Parameter (Phi): 1.000000\n",
      "Seasonal Parameters (Gamma): [ 4.95937713e-05 -9.24500727e-06  3.88570065e-05 -1.44539371e-05]\n",
      "AR coefficients [ 3.88570065e-05 -1.44539371e-05 -4.58856915e-01 -1.02723446e-01]\n",
      "MA coefficients [-0.71560148 -0.17750641]\n",
      "Seed vector [ 3.16542546e+02 -1.02119824e+00  9.51596304e-01  1.17082364e+00\n",
      "  4.19430955e+01 -1.85159525e+01  2.44199799e+00  6.41276294e+00\n",
      " -9.88250052e+00 -4.00722420e-01 -6.64194171e-01 -1.42048745e+00\n",
      " -2.31256076e+00 -4.95602203e-02  5.74772050e-02 -7.04579557e-01\n",
      "  1.81215673e+00  2.31803658e-01  7.33033435e-01  2.03232597e+00\n",
      "  4.29891815e-02 -7.35284585e-01 -2.06868133e-01  1.14776129e+00\n",
      "  1.10945152e-02  2.16830283e+00 -9.35702458e-01  1.36708201e+00\n",
      "  1.78662893e+01 -9.44980334e-02 -1.08442330e+01  1.88400814e-01\n",
      "  2.00035766e+00 -8.81408137e+00  4.72125898e-01  5.85592957e-01\n",
      " -2.97257562e+00  2.46332143e-01 -4.83714678e-01 -4.65394120e-01\n",
      "  4.09659306e-01 -8.38536229e-01  4.80166892e-01 -2.01034146e+00\n",
      " -1.34534326e+00  3.46595100e-01 -1.58983363e+00 -2.30291656e+00\n",
      " -7.77023027e-01  1.11079989e+00  3.34745940e-01 -4.70130090e-01\n",
      "  0.00000000e+00  0.00000000e+00  0.00000000e+00  0.00000000e+00\n",
      "  0.00000000e+00  0.00000000e+00]\n",
      "\n",
      "AIC 1616.702808\n"
     ]
    }
   ],
   "source": [
    "train, test = df.loc[df['Date'] <= '2020-09-16'], df.loc[df['Date'] > '2020-09-16']\n",
    "y=train.Close.values\n",
    "estimator = TBATS(seasonal_periods=[7,197])\n",
    "\n",
    "    # Fit model\n",
    "fitted_model = estimator.fit(y)\n",
    "\n",
    "    # Forecast 14 steps ahead\n",
    "y_forecasted = fitted_model.forecast(steps=69)\n",
    "\n",
    "    # Summarize fitted model\n",
    "print(fitted_model.summary())"
   ]
  },
  {
   "cell_type": "code",
   "execution_count": 12,
   "metadata": {},
   "outputs": [
    {
     "data": {
      "text/plain": [
       "[<matplotlib.lines.Line2D at 0x21010da16a0>]"
      ]
     },
     "execution_count": 12,
     "metadata": {},
     "output_type": "execute_result"
    },
    {
     "data": {
      "image/png": "[encoded data removed]",
      "text/plain": [
       "<Figure size 432x288 with 1 Axes>"
      ]
     },
     "metadata": {
      "needs_background": "light"
     },
     "output_type": "display_data"
    }
   ],
   "source": [
    "#plt.plot(test.Close)\n",
    "plt.plot(y_forecasted)"
   ]
  },
  {
   "cell_type": "code",
   "execution_count": 13,
   "metadata": {},
   "outputs": [
    {
     "data": {
      "text/plain": [
       "[<matplotlib.lines.Line2D at 0x210110d7790>]"
      ]
     },
     "execution_count": 13,
     "metadata": {},
     "output_type": "execute_result"
    },
    {
     "data": {
      "image/png": "[encoded data removed]",
      "text/plain": [
       "<Figure size 432x288 with 1 Axes>"
      ]
     },
     "metadata": {
      "needs_background": "light"
     },
     "output_type": "display_data"
    }
   ],
   "source": [
    "plt.plot(test.Close)"
   ]
  },
  {
   "cell_type": "code",
   "execution_count": 14,
   "metadata": {},
   "outputs": [
    {
     "data": {
      "text/plain": [
       "[<matplotlib.lines.Line2D at 0x21012cc18e0>]"
      ]
     },
     "execution_count": 14,
     "metadata": {},
     "output_type": "execute_result"
    },
    {
     "data": {
      "image/png": "[encoded data removed]",
      "text/plain": [
       "<Figure size 432x288 with 1 Axes>"
      ]
     },
     "metadata": {
      "needs_background": "light"
     },
     "output_type": "display_data"
    }
   ],
   "source": [
    "plt.plot(train.Close)"
   ]
  },
  {
   "cell_type": "code",
   "execution_count": null,
   "metadata": {},
   "outputs": [],
   "source": []
  }
 ],
 "metadata": {
  "kernelspec": {
   "display_name": "Python 3",
   "language": "python",
   "name": "python3"
  },
  "language_info": {
   "codemirror_mode": {
    "name": "ipython",
    "version": 3
   },
   "file_extension": ".py",
   "mimetype": "text/x-python",
   "name": "python",
   "nbconvert_exporter": "python",
   "pygments_lexer": "ipython3",
   "version": "3.8.3"
  }
 },
 "nbformat": 4,
 "nbformat_minor": 4
}
